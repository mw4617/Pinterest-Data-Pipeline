{
 "cells": [
  {
   "cell_type": "code",
   "execution_count": 0,
   "metadata": {
    "application/vnd.databricks.v1+cell": {
     "cellMetadata": {
      "byteLimit": 2048000,
      "rowLimit": 10000
     },
     "inputWidgets": {},
     "nuid": "7b5dfc05-c5ee-4d33-a0ad-e33f2ad17519",
     "showTitle": false,
     "tableResultSettingsMap": {},
     "title": ""
    }
   },
   "outputs": [],
   "source": [
    "import boto3\n",
    "import pandas as pd\n",
    "import json\n",
    "from io import StringIO\n",
    "\n",
    "# Initialize S3 client (use configured AWS CLI or environment variables)\n",
    "s3 = boto3.client('s3', region_name='us-east-1')\n",
    "\n",
    "# S3 bucket details\n",
    "bucket_name = 'user-b194464884bf-bucket'\n",
    "\n",
    "# Define the partitions and corresponding DataFrame names\n",
    "partitions = {\n",
    "    'b194464884bf.geo': 'df_geo',\n",
    "    'b194464884bf.pin': 'df_pin',\n",
    "    'b194464884bf.user': 'df_user'\n",
    "}\n",
    "\n",
    "# Loop through each partition and create a separate DataFrame\n",
    "for partition, df_name in partitions.items():\n",
    "    folder_prefix = f'topics/{partition}/partition=2/'  # Partition 2 folder\n",
    "    response = s3.list_objects_v2(Bucket=bucket_name, Prefix=folder_prefix)\n",
    "\n",
    "    # Initialize a list to store DataFrames for the current partition\n",
    "    df_list = []\n",
    "\n",
    "    # Loop through each JSON file in the partition\n",
    "    if 'Contents' in response:\n",
    "        for obj in response['Contents']:\n",
    "            file_key = obj['Key']\n",
    "            if file_key.endswith('.json'):\n",
    "                # Read file content\n",
    "                file_obj = s3.get_object(Bucket=bucket_name, Key=file_key)\n",
    "                file_content = file_obj['Body'].read().decode('utf-8')\n",
    "\n",
    "                # Parse JSON and append DataFrame\n",
    "                data = json.loads(file_content)\n",
    "                df_list.append(pd.json_normalize(data))\n",
    "\n",
    "        # Combine all DataFrames for the partition\n",
    "        if df_list:\n",
    "            globals()[df_name] = pd.concat(df_list, ignore_index=True)\n"
   ]
  },
  {
   "cell_type": "code",
   "execution_count": 0,
   "metadata": {
    "application/vnd.databricks.v1+cell": {
     "cellMetadata": {
      "byteLimit": 2048000,
      "rowLimit": 10000
     },
     "inputWidgets": {},
     "nuid": "c41d07a7-cc06-4cee-bc19-5292011cb1c5",
     "showTitle": false,
     "tableResultSettingsMap": {},
     "title": ""
    }
   },
   "outputs": [],
   "source": [
    "df_geo"
   ]
  },
  {
   "cell_type": "code",
   "execution_count": 0,
   "metadata": {
    "application/vnd.databricks.v1+cell": {
     "cellMetadata": {
      "byteLimit": 2048000,
      "rowLimit": 10000
     },
     "inputWidgets": {},
     "nuid": "5e92b53d-a795-45dc-b4ad-5f89b92a04e2",
     "showTitle": false,
     "tableResultSettingsMap": {},
     "title": ""
    }
   },
   "outputs": [],
   "source": [
    "df_pin"
   ]
  },
  {
   "cell_type": "code",
   "execution_count": 0,
   "metadata": {
    "application/vnd.databricks.v1+cell": {
     "cellMetadata": {
      "byteLimit": 2048000,
      "rowLimit": 10000
     },
     "inputWidgets": {},
     "nuid": "75adcf20-5c0c-42d0-b9a0-d21a18803d27",
     "showTitle": false,
     "tableResultSettingsMap": {},
     "title": ""
    }
   },
   "outputs": [],
   "source": [
    "df_user"
   ]
  },
  {
   "cell_type": "code",
   "execution_count": 0,
   "metadata": {
    "application/vnd.databricks.v1+cell": {
     "cellMetadata": {},
     "inputWidgets": {},
     "nuid": "c4bb56fa-ed02-47fc-99dc-c169d686a4f9",
     "showTitle": false,
     "tableResultSettingsMap": {},
     "title": ""
    }
   },
   "outputs": [],
   "source": []
  }
 ],
 "metadata": {
  "application/vnd.databricks.v1+notebook": {
   "computePreferences": null,
   "dashboards": [],
   "environmentMetadata": {
    "base_environment": "",
    "environment_version": "2"
   },
   "language": "python",
   "notebookMetadata": {
    "pythonIndentUnit": 4
   },
   "notebookName": "Pinterest Data",
   "widgets": {}
  },
  "language_info": {
   "name": "python"
  }
 },
 "nbformat": 4,
 "nbformat_minor": 0
}
