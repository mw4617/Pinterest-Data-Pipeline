{
 "cells": [
  {
   "cell_type": "code",
   "execution_count": 0,
   "metadata": {
    "application/vnd.databricks.v1+cell": {
     "cellMetadata": {
      "byteLimit": 2048000,
      "rowLimit": 10000
     },
     "inputWidgets": {},
     "nuid": "7b5dfc05-c5ee-4d33-a0ad-e33f2ad17519",
     "showTitle": false,
     "tableResultSettingsMap": {},
     "title": ""
    }
   },
   "outputs": [],
   "source": [
    "import boto3\n",
    "import pandas as pd\n",
    "import json\n",
    "from io import StringIO\n",
    "\n",
    "\n",
    "# Initialize S3 client (use configured AWS CLI or environment variables)\n",
    "s3 = boto3.client('s3', region_name='us-east-1')\n",
    "\n",
    "# S3 bucket details\n",
    "bucket_name = 'user-b194464884bf-bucket'\n",
    "\n",
    "# Define the partitions and corresponding DataFrame names\n",
    "partitions = {\n",
    "    'b194464884bf.geo': 'df_geo',\n",
    "    'b194464884bf.pin': 'df_pin',\n",
    "    'b194464884bf.user': 'df_user'\n",
    "}\n",
    "\n",
    "# Loop through each partition and create a separate DataFrame\n",
    "for partition, df_name in partitions.items():\n",
    "    folder_prefix = f'topics/{partition}/partition=2/'  # Partition 2 folder\n",
    "    response = s3.list_objects_v2(Bucket=bucket_name, Prefix=folder_prefix)\n",
    "\n",
    "    # Initialize a list to store DataFrames for the current partition\n",
    "    df_list = []\n",
    "\n",
    "    # Loop through each JSON file in the partition\n",
    "    if 'Contents' in response:\n",
    "        for obj in response['Contents']:\n",
    "            file_key = obj['Key']\n",
    "            if file_key.endswith('.json'):\n",
    "                # Read file content\n",
    "                file_obj = s3.get_object(Bucket=bucket_name, Key=file_key)\n",
    "                file_content = file_obj['Body'].read().decode('utf-8')\n",
    "\n",
    "                # Parse JSON and append DataFrame\n",
    "                data = json.loads(file_content)\n",
    "                df_list.append(pd.json_normalize(data))\n",
    "\n",
    "        # Combine all DataFrames for the partition\n",
    "        if df_list:\n",
    "            globals()[df_name] = pd.concat(df_list, ignore_index=True)\n"
   ]
  },
  {
   "cell_type": "code",
   "execution_count": 0,
   "metadata": {
    "application/vnd.databricks.v1+cell": {
     "cellMetadata": {
      "byteLimit": 2048000,
      "rowLimit": 10000
     },
     "inputWidgets": {},
     "nuid": "c3a13329-aecd-46e5-8b17-4375ef6340ef",
     "showTitle": false,
     "tableResultSettingsMap": {},
     "title": ""
    }
   },
   "outputs": [],
   "source": [
    "# Show all rows\n",
    "pd.set_option('display.max_rows', None)\n"
   ]
  },
  {
   "cell_type": "code",
   "execution_count": 0,
   "metadata": {
    "application/vnd.databricks.v1+cell": {
     "cellMetadata": {
      "byteLimit": 2048000,
      "rowLimit": 10000
     },
     "inputWidgets": {},
     "nuid": "1d20d7ee-720a-47e1-91c3-40418d3e0792",
     "showTitle": false,
     "tableResultSettingsMap": {},
     "title": ""
    }
   },
   "outputs": [],
   "source": [
    "\n",
    "df_pin.replace('',None)\n",
    "df_pin.replace(to_replace=r'.*User Info Error.*', value=None, regex=True, inplace=True)\n",
    "df_pin.replace(to_replace=r'.*N,o, ,T,a,g,s, ,A,v,a,i,l,a,b,l,e.*', value=None, regex=True, inplace=True)\n",
    "df_pin.replace(to_replace=r'.*No description available Story format.*', value=None, regex=True, inplace=True)\n",
    "df_pin.replace(to_replace=r'.*No Title Data Available.*', value=None, regex=True, inplace=True)\n",
    "df_pin.replace(to_replace=r'.*Image src error.*', value=None, regex=True, inplace=True)\n",
    "df_pin = df_pin.applymap(lambda x: None if pd.isna(x) else x)\n",
    "# Remove \"Local save in \" from the 'save_location' column\n",
    "df_pin['save_location'] = df_pin['save_location'].str.replace('Local save in ', '', regex=False)\n",
    "\n",
    "\n",
    "\n",
    "# Function to convert follower counts\n",
    "def convert_to_number(num):\n",
    "    if pd.isna(num):\n",
    "        return None\n",
    "    num = str(num).upper()  # Ensure it's uppercase\n",
    "    if 'M' in num:\n",
    "        return float(num.replace('M', ''))* 1000000\n",
    "    elif 'K' in num:\n",
    "        return float(num.replace('K', '')) * 1000\n",
    "    elif 'B' in num:\n",
    "        return float(num.replace('B', '')) * 1000000000\n",
    "    else:\n",
    "        return float(num) if num.isdigit() else None\n",
    "\n",
    "# Apply conversion\n",
    "#df_pin['index'] = df_pin['index'].apply(convert_to_number)\n",
    "df_pin['follower_count'] = df_pin['follower_count'].apply(convert_to_number)\n",
    "\n",
    "# Rename 'index' column to 'ind'\n",
    "df_pin.rename(columns={'index': 'ind'}, inplace=True)\n",
    "# Reorder columns in the specified order\n",
    "df_pin = df_pin[['ind', \n",
    "                 'unique_id', \n",
    "                 'title', \n",
    "                 'description', \n",
    "                 'follower_count', \n",
    "                 'poster_name', \n",
    "                 'tag_list', \n",
    "                 'is_image_or_video', \n",
    "                 'image_src', \n",
    "                 'save_location', \n",
    "                 'category']]\n",
    "\n",
    "\n"
   ]
  },
  {
   "cell_type": "code",
   "execution_count": 0,
   "metadata": {
    "application/vnd.databricks.v1+cell": {
     "cellMetadata": {
      "byteLimit": 2048000,
      "rowLimit": 10000
     },
     "inputWidgets": {},
     "nuid": "c41d07a7-cc06-4cee-bc19-5292011cb1c5",
     "showTitle": false,
     "tableResultSettingsMap": {},
     "title": ""
    }
   },
   "outputs": [],
   "source": [
    "df_pin"
   ]
  },
  {
   "cell_type": "code",
   "execution_count": 0,
   "metadata": {
    "application/vnd.databricks.v1+cell": {
     "cellMetadata": {
      "byteLimit": 2048000,
      "rowLimit": 10000
     },
     "inputWidgets": {},
     "nuid": "75adcf20-5c0c-42d0-b9a0-d21a18803d27",
     "showTitle": false,
     "tableResultSettingsMap": {},
     "title": ""
    }
   },
   "outputs": [],
   "source": [
    "df_user"
   ]
  },
  {
   "cell_type": "code",
   "execution_count": 0,
   "metadata": {
    "application/vnd.databricks.v1+cell": {
     "cellMetadata": {
      "byteLimit": 2048000,
      "rowLimit": 10000
     },
     "inputWidgets": {},
     "nuid": "c4bb56fa-ed02-47fc-99dc-c169d686a4f9",
     "showTitle": false,
     "tableResultSettingsMap": {},
     "title": ""
    }
   },
   "outputs": [],
   "source": [
    "df_geo"
   ]
  },
  {
   "cell_type": "code",
   "execution_count": 0,
   "metadata": {
    "application/vnd.databricks.v1+cell": {
     "cellMetadata": {
      "byteLimit": 2048000,
      "rowLimit": 10000
     },
     "inputWidgets": {},
     "nuid": "f2742466-d5bc-4c81-b85d-d2ff9ffc1c20",
     "showTitle": false,
     "tableResultSettingsMap": {},
     "title": ""
    }
   },
   "outputs": [],
   "source": [
    "import pandas as pd\n",
    "\n",
    "# Create 'coordinates' column only if 'latitude' and 'longitude' exist\n",
    "if 'latitude' in df_geo.columns and 'longitude' in df_geo.columns:\n",
    "    df_geo['coordinates'] = df_geo[['latitude', 'longitude']].apply(lambda x: [x[0], x[1]], axis=1)\n",
    "    \n",
    "    # Drop 'latitude' and 'longitude' only if they exist\n",
    "    df_geo.drop(columns=['latitude', 'longitude'], inplace=True)\n",
    "\n",
    "# Convert 'timestamp' column to datetime format\n",
    "df_geo['timestamp'] = pd.to_datetime(df_geo['timestamp'])\n",
    "\n",
    "# Reorder the columns\n",
    "df_geo = df_geo[['ind', 'country', 'coordinates', 'timestamp']]\n",
    "\n",
    "\n",
    "df_geo\n",
    "\n"
   ]
  },
  {
   "cell_type": "code",
   "execution_count": 0,
   "metadata": {
    "application/vnd.databricks.v1+cell": {
     "cellMetadata": {
      "byteLimit": 2048000,
      "rowLimit": 10000
     },
     "inputWidgets": {},
     "nuid": "e537785c-bf91-438b-8029-124e58413fe6",
     "showTitle": false,
     "tableResultSettingsMap": {},
     "title": ""
    }
   },
   "outputs": [],
   "source": [
    "import pandas as pd\n",
    "\n",
    "# Print columns to debug issue\n",
    "print(\"Available columns:\", df_user.columns)\n",
    "\n",
    "# Create 'user_name' column only if 'first_name' and 'last_name' exist\n",
    "if 'first_name' in df_user.columns and 'last_name' in df_user.columns:\n",
    "    df_user['user_name'] = df_user['first_name'] + \" \" + df_user['last_name']\n",
    "    \n",
    "    # Drop 'first_name' and 'last_name' only if they exist\n",
    "    df_user.drop(columns=['first_name', 'last_name'], inplace=True)\n",
    "\n",
    "# Convert 'date_joined' column to datetime format\n",
    "df_user['date_joined'] = pd.to_datetime(df_user['date_joined'])\n",
    "\n",
    "# Reorder the columns\n",
    "df_user = df_user[['ind', 'user_name', 'age', 'date_joined']]\n",
    "\n",
    "\n",
    "df_user\n"
   ]
  },
  {
   "cell_type": "code",
   "execution_count": 0,
   "metadata": {
    "application/vnd.databricks.v1+cell": {
     "cellMetadata": {
      "byteLimit": 2048000,
      "rowLimit": 10000
     },
     "inputWidgets": {},
     "nuid": "957f52ce-b0d0-4922-83ff-c743da30a4f7",
     "showTitle": false,
     "tableResultSettingsMap": {},
     "title": ""
    }
   },
   "outputs": [],
   "source": [
    "# Ensure all DataFrames have at least 1119 rows before concatenation\n",
    "df_user = df_user.reset_index(drop=True).head(1119)\n",
    "df_geo = df_geo.reset_index(drop=True).head(1119)\n",
    "\n",
    "# Concatenate the DataFrames column-wise\n",
    "df_combined = pd.concat([df_pin.reset_index(drop=True), df_user.reset_index(drop=True), df_geo.reset_index(drop=True)], axis=1)\n",
    "\n",
    "# Ensure we have 1119 records\n",
    "df_combined = df_combined.head(1119)\n",
    "\n",
    "\n",
    "df_combined\n",
    "\n"
   ]
  },
  {
   "cell_type": "code",
   "execution_count": 0,
   "metadata": {
    "application/vnd.databricks.v1+cell": {
     "cellMetadata": {
      "byteLimit": 2048000,
      "rowLimit": 10000
     },
     "inputWidgets": {},
     "nuid": "a5f51a11-446e-4309-b030-a1b555a957f3",
     "showTitle": false,
     "tableResultSettingsMap": {},
     "title": ""
    }
   },
   "outputs": [],
   "source": [
    "#Task 4\n",
    "# Group by country and category, then count occurrences\n",
    "df_category_count = df_combined.groupby(['country', 'category']).size().reset_index(name='category_count')\n",
    "\n",
    "# Find the most popular category in each country\n",
    "df_most_popular_category_by_country = df_category_count.loc[df_category_count.groupby('country')['category_count'].idxmax()]\n",
    "\n",
    "# Display the resulting DataFrame\n",
    "df_most_popular_category_by_country\n"
   ]
  },
  {
   "cell_type": "code",
   "execution_count": 0,
   "metadata": {
    "application/vnd.databricks.v1+cell": {
     "cellMetadata": {
      "byteLimit": 2048000,
      "rowLimit": 10000
     },
     "inputWidgets": {},
     "nuid": "5b328b0c-9d80-4399-abf2-c6d2745bb2be",
     "showTitle": false,
     "tableResultSettingsMap": {},
     "title": ""
    }
   },
   "outputs": [],
   "source": [
    "#Task 5\n",
    "# Convert timestamp column to datetime format\n",
    "df_combined['post_year'] = pd.to_datetime(df_combined['timestamp']).dt.year\n",
    "\n",
    "# Group by year and category, then count occurrences\n",
    "df_category_count = df_combined.groupby(['post_year', 'category']).size().reset_index(name='category_count')\n",
    "\n",
    "# Find the most popular category each year\n",
    "df_most_popular_category_by_year = df_category_count.loc[df_category_count.groupby('post_year')['category_count'].idxmax()]\n",
    "\n",
    "# Display the resulting DataFrame\n",
    "df_most_popular_category_by_year\n"
   ]
  },
  {
   "cell_type": "code",
   "execution_count": 0,
   "metadata": {
    "application/vnd.databricks.v1+cell": {
     "cellMetadata": {
      "byteLimit": 2048000,
      "rowLimit": 10000
     },
     "inputWidgets": {},
     "nuid": "43bc9a21-7074-4aeb-a84f-012393d68600",
     "showTitle": false,
     "tableResultSettingsMap": {},
     "title": ""
    }
   },
   "outputs": [],
   "source": [
    "#Task 6\n",
    "#Step 1\n",
    "#find the user with most followers in each country\n",
    "\n",
    "# Group by country and poster_name, then sum up follower counts\n",
    "df_followers = df_combined.groupby(['country', 'poster_name'])['follower_count'].sum().reset_index()\n",
    "\n",
    "# Find the user with the most followers in each country\n",
    "df_top_users_per_country = df_followers.loc[df_followers.groupby('country')['follower_count'].idxmax()]\n",
    "\n",
    "# Display the resulting DataFrame\n",
    "df_top_users_per_country\n"
   ]
  },
  {
   "cell_type": "code",
   "execution_count": 0,
   "metadata": {
    "application/vnd.databricks.v1+cell": {
     "cellMetadata": {
      "byteLimit": 2048000,
      "rowLimit": 10000
     },
     "inputWidgets": {},
     "nuid": "2695845e-5915-442f-ad3b-78b979810f09",
     "showTitle": false,
     "tableResultSettingsMap": {},
     "title": ""
    }
   },
   "outputs": [],
   "source": [
    "#Task 6\n",
    "#Step 2\n",
    "# Find the country where the user has the highest follower count\n",
    "df_top_country = df_top_users_per_country.loc[df_top_users_per_country['follower_count'].idxmax(), ['country', 'follower_count']].to_frame().T\n",
    "\n",
    "# Display the final DataFrame (single row)\n",
    "df_top_country\n"
   ]
  },
  {
   "cell_type": "code",
   "execution_count": 0,
   "metadata": {
    "application/vnd.databricks.v1+cell": {
     "cellMetadata": {
      "byteLimit": 2048000,
      "rowLimit": 10000
     },
     "inputWidgets": {},
     "nuid": "abcb9638-4855-4f3b-adc0-b549d189ada3",
     "showTitle": false,
     "tableResultSettingsMap": {},
     "title": ""
    }
   },
   "outputs": [],
   "source": [
    "#Task 7\n",
    "# Define age group bins and labels\n",
    "bins = [0, 24, 35, 50, float('inf')]\n",
    "labels = ['18-24', '25-35', '36-50', '50+']\n",
    "\n",
    "# Create age_group column based on age\n",
    "df_combined['age_group'] = pd.cut(df_combined['age'], bins=bins, labels=labels, right=True)\n",
    "\n",
    "# Group by age_group and category, then count occurrences\n",
    "df_category_count = df_combined.groupby(['age_group', 'category']).size().reset_index(name='category_count')\n",
    "\n",
    "# Find the most popular category in each age group\n",
    "df_most_popular_category_by_age_group = df_category_count.loc[df_category_count.groupby('age_group')['category_count'].idxmax()]\n",
    "\n",
    "# Display the resulting DataFrame\n",
    "df_most_popular_category_by_age_group"
   ]
  },
  {
   "cell_type": "code",
   "execution_count": 0,
   "metadata": {
    "application/vnd.databricks.v1+cell": {
     "cellMetadata": {
      "byteLimit": 2048000,
      "rowLimit": 10000
     },
     "inputWidgets": {},
     "nuid": "c3759f9d-1e79-4358-abe3-fa457e116fb8",
     "showTitle": false,
     "tableResultSettingsMap": {},
     "title": ""
    }
   },
   "outputs": [],
   "source": [
    "#Task 8\n",
    "# Group by age_group and calculate median follower count\n",
    "df_median_followers = df_combined.groupby('age_group')['follower_count'].median().reset_index(name='median_follower_count')\n",
    "\n",
    "# Display the resulting DataFrame\n",
    "df_median_followers\n"
   ]
  },
  {
   "cell_type": "code",
   "execution_count": 0,
   "metadata": {
    "application/vnd.databricks.v1+cell": {
     "cellMetadata": {
      "byteLimit": 2048000,
      "rowLimit": 10000
     },
     "inputWidgets": {},
     "nuid": "11acec22-9851-4e9d-95e6-d909c4c70329",
     "showTitle": false,
     "tableResultSettingsMap": {},
     "title": ""
    }
   },
   "outputs": [],
   "source": [
    "#Task 9\n",
    "# Convert date_joined column to datetime format and extract the year\n",
    "df_combined['post_year'] = pd.to_datetime(df_combined['date_joined']).dt.year\n",
    "\n",
    "# Filter data for years between 2015 and 2020\n",
    "df_filtered = df_combined[(df_combined['post_year'] >= 2015) & (df_combined['post_year'] <= 2020)]\n",
    "\n",
    "# Count number of users joined per year\n",
    "df_users_per_year = df_filtered.groupby('post_year').size().reset_index(name='number_users_joined')\n",
    "\n",
    "# Display the resulting DataFrame\n",
    "df_users_per_year\n",
    "\n",
    "\n"
   ]
  },
  {
   "cell_type": "code",
   "execution_count": 0,
   "metadata": {
    "application/vnd.databricks.v1+cell": {
     "cellMetadata": {
      "byteLimit": 2048000,
      "rowLimit": 10000
     },
     "inputWidgets": {},
     "nuid": "4527686c-53d7-4a28-9fd5-ccda162a7932",
     "showTitle": false,
     "tableResultSettingsMap": {},
     "title": ""
    }
   },
   "outputs": [],
   "source": [
    "#Task 10\n",
    "# Convert date_joined column to datetime format and extract the year\n",
    "df_combined['post_year'] = pd.to_datetime(df_combined['date_joined']).dt.year\n",
    "\n",
    "# Filter data for users who joined between 2015 and 2020\n",
    "df_filtered = df_combined[(df_combined['post_year'] >= 2015) & (df_combined['post_year'] <= 2020)]\n",
    "\n",
    "# Calculate median follower count per year\n",
    "df_median_followers = df_filtered.groupby('post_year')['follower_count'].median().reset_index(name='median_follower_count')\n",
    "\n",
    "# Display the resulting DataFrame\n",
    "df_median_followers\n"
   ]
  },
  {
   "cell_type": "code",
   "execution_count": 0,
   "metadata": {
    "application/vnd.databricks.v1+cell": {
     "cellMetadata": {
      "byteLimit": 2048000,
      "rowLimit": 10000
     },
     "inputWidgets": {},
     "nuid": "ba27a9c1-0750-4974-a615-1fb2d56c6bec",
     "showTitle": false,
     "tableResultSettingsMap": {},
     "title": ""
    }
   },
   "outputs": [],
   "source": [
    "#Task 11\n",
    "# Convert date_joined column to datetime format and extract the year\n",
    "df_combined['post_year'] = pd.to_datetime(df_combined['date_joined']).dt.year\n",
    "\n",
    "# Filter data for users who joined between 2015 and 2020\n",
    "df_filtered = df_combined[(df_combined['post_year'] >= 2015) & (df_combined['post_year'] <= 2020)]\n",
    "\n",
    "# Group by post_year and age_group, then calculate the median follower count\n",
    "df_median_followers_by_age_group = df_filtered.groupby(['post_year', 'age_group'])['follower_count'].median().reset_index(name='median_follower_count')\n",
    "\n",
    "# Display the resulting DataFrame\n",
    "df_median_followers_by_age_group\n",
    "\n"
   ]
  }
 ],
 "metadata": {
  "application/vnd.databricks.v1+notebook": {
   "computePreferences": null,
   "dashboards": [],
   "environmentMetadata": {
    "base_environment": "",
    "environment_version": "2"
   },
   "language": "python",
   "notebookMetadata": {
    "pythonIndentUnit": 4
   },
   "notebookName": "Pinterest Data",
   "widgets": {}
  },
  "language_info": {
   "name": "python"
  }
 },
 "nbformat": 4,
 "nbformat_minor": 0
}
