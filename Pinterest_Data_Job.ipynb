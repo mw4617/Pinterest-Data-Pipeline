{
 "cells": [
  {
   "cell_type": "code",
   "execution_count": 0,
   "metadata": {
    "application/vnd.databricks.v1+cell": {
     "cellMetadata": {
      "byteLimit": 2048000,
      "rowLimit": 10000
     },
     "inputWidgets": {},
     "nuid": "7c00e58a-de44-4697-be4f-ee34bd125d4c",
     "showTitle": false,
     "tableResultSettingsMap": {},
     "title": ""
    }
   },
   "outputs": [],
   "source": [
    "from pyspark.sql import SparkSession\n",
    "import pandas as pd\n",
    "import random\n",
    "\n",
    "# Initialize Spark Session\n",
    "spark = SparkSession.builder.appName(\"Databricks_Catalog_Read\").getOrCreate()\n",
    "\n",
    "# Define the catalog and schema\n",
    "catalog_name = \"workspace\"\n",
    "schema_name = \"default\"\n",
    "\n",
    "# Define the tables and corresponding DataFrame names\n",
    "tables = {\n",
    "    'geo': 'df_geo',\n",
    "    'pinterest_data': 'df_pin',\n",
    "    'user_data': 'df_user'\n",
    "}\n",
    "\n",
    "# Read data from Databricks tables and convert them to Pandas DataFrames\n",
    "for table, df_name in tables.items():\n",
    "    table_full_path = f\"{catalog_name}.{schema_name}.{table}\"\n",
    "    \n",
    "    # Read the table using Spark\n",
    "    df_spark = spark.read.table(table_full_path)\n",
    "    \n",
    "    # Convert to Pandas DataFrame\n",
    "    globals()[df_name] = df_spark.toPandas()\n",
    "\n"
   ]
  },
  {
   "cell_type": "code",
   "execution_count": 0,
   "metadata": {
    "application/vnd.databricks.v1+cell": {
     "cellMetadata": {
      "byteLimit": 2048000,
      "rowLimit": 10000
     },
     "inputWidgets": {},
     "nuid": "62175ddc-45c2-4db3-97da-765bdee91e97",
     "showTitle": false,
     "tableResultSettingsMap": {},
     "title": ""
    }
   },
   "outputs": [],
   "source": [
    "#getting 500 random rows\n",
    "row_numbers = random.sample(range(0, 11154), 1000)  # Unique random numbers\n"
   ]
  },
  {
   "cell_type": "code",
   "execution_count": 0,
   "metadata": {
    "application/vnd.databricks.v1+cell": {
     "cellMetadata": {
      "byteLimit": 2048000,
      "rowLimit": 10000
     },
     "inputWidgets": {},
     "nuid": "3881cf63-a6cf-4c55-aebe-2d7a7f6c9556",
     "showTitle": false,
     "tableResultSettingsMap": {},
     "title": ""
    }
   },
   "outputs": [],
   "source": [
    "#getting only 1000 records\n",
    "df_geo=df_geo.iloc[row_numbers]\n",
    "df_pin=df_pin.iloc[row_numbers]\n",
    "df_user=df_user.iloc[row_numbers]"
   ]
  },
  {
   "cell_type": "code",
   "execution_count": 0,
   "metadata": {
    "application/vnd.databricks.v1+cell": {
     "cellMetadata": {
      "byteLimit": 2048000,
      "rowLimit": 10000
     },
     "inputWidgets": {},
     "nuid": "41f58444-9527-411f-a638-20f3712b0d1d",
     "showTitle": false,
     "tableResultSettingsMap": {},
     "title": ""
    }
   },
   "outputs": [],
   "source": [
    "# Show all rows\n",
    "pd.set_option('display.max_rows', None)"
   ]
  },
  {
   "cell_type": "code",
   "execution_count": 0,
   "metadata": {
    "application/vnd.databricks.v1+cell": {
     "cellMetadata": {
      "byteLimit": 2048000,
      "rowLimit": 10000
     },
     "inputWidgets": {},
     "nuid": "2bab4f6b-a30e-4f46-8ee4-19e3844ffb4f",
     "showTitle": false,
     "tableResultSettingsMap": {},
     "title": ""
    }
   },
   "outputs": [],
   "source": [
    "df_geo"
   ]
  },
  {
   "cell_type": "code",
   "execution_count": 0,
   "metadata": {
    "application/vnd.databricks.v1+cell": {
     "cellMetadata": {
      "byteLimit": 2048000,
      "rowLimit": 10000
     },
     "inputWidgets": {},
     "nuid": "055254d2-60bd-4341-94ae-7c9e2630a6a4",
     "showTitle": false,
     "tableResultSettingsMap": {},
     "title": ""
    }
   },
   "outputs": [],
   "source": [
    "df_pin"
   ]
  },
  {
   "cell_type": "code",
   "execution_count": 0,
   "metadata": {
    "application/vnd.databricks.v1+cell": {
     "cellMetadata": {
      "byteLimit": 2048000,
      "rowLimit": 10000
     },
     "inputWidgets": {},
     "nuid": "6d28fc16-ca76-4548-9b94-79a6d040fd3f",
     "showTitle": false,
     "tableResultSettingsMap": {},
     "title": ""
    }
   },
   "outputs": [],
   "source": [
    "df_user"
   ]
  },
  {
   "cell_type": "code",
   "execution_count": 0,
   "metadata": {
    "application/vnd.databricks.v1+cell": {
     "cellMetadata": {
      "byteLimit": 2048000,
      "rowLimit": 10000
     },
     "inputWidgets": {},
     "nuid": "1d3be78e-03de-4b79-8d8a-55829be0935d",
     "showTitle": false,
     "tableResultSettingsMap": {},
     "title": ""
    }
   },
   "outputs": [],
   "source": [
    "\n",
    "df_pin.replace('',None)\n",
    "df_pin.replace(to_replace=r'.*User Info Error.*', value=None, regex=True, inplace=True)\n",
    "df_pin.replace(to_replace=r'.*N,o, ,T,a,g,s, ,A,v,a,i,l,a,b,l,e.*', value=None, regex=True, inplace=True)\n",
    "df_pin.replace(to_replace=r'.*No description available Story format.*', value=None, regex=True, inplace=True)\n",
    "df_pin.replace(to_replace=r'.*No Title Data Available.*', value=None, regex=True, inplace=True)\n",
    "df_pin.replace(to_replace=r'.*Image src error.*', value=None, regex=True, inplace=True)\n",
    "df_pin = df_pin.applymap(lambda x: None if pd.isna(x) else x)\n",
    "# Remove \"Local save in \" from the 'save_location' column\n",
    "df_pin['save_location'] = df_pin['save_location'].str.replace('Local save in ', '', regex=False)\n",
    "\n",
    "\n",
    "\n",
    "# Function to convert follower counts\n",
    "def convert_to_number(num):\n",
    "    if pd.isna(num):\n",
    "        return None\n",
    "    num = str(num).upper()  # Ensure it's uppercase\n",
    "    if 'M' in num:\n",
    "        return float(num.replace('M', ''))* 1000000\n",
    "    elif 'K' in num:\n",
    "        return float(num.replace('K', '')) * 1000\n",
    "    elif 'B' in num:\n",
    "        return float(num.replace('B', '')) * 1000000000\n",
    "    else:\n",
    "        return float(num) if num.isdigit() else None\n",
    "\n",
    "# Apply conversion\n",
    "#df_pin['index'] = df_pin['index'].apply(convert_to_number)\n",
    "df_pin['follower_count'] = df_pin['follower_count'].apply(convert_to_number)\n",
    "\n",
    "# Rename 'index' column to 'ind'\n",
    "df_pin.rename(columns={'index': 'ind'}, inplace=True)\n",
    "# Reorder columns in the specified order\n",
    "df_pin = df_pin[['ind', \n",
    "                 'unique_id', \n",
    "                 'title', \n",
    "                 'description', \n",
    "                 'follower_count', \n",
    "                 'poster_name', \n",
    "                 'tag_list', \n",
    "                 'is_image_or_video', \n",
    "                 'image_src', \n",
    "                 'save_location', \n",
    "                 'category']]\n",
    "\n"
   ]
  },
  {
   "cell_type": "code",
   "execution_count": 0,
   "metadata": {
    "application/vnd.databricks.v1+cell": {
     "cellMetadata": {
      "byteLimit": 2048000,
      "rowLimit": 10000
     },
     "inputWidgets": {},
     "nuid": "a2701f49-c44f-4546-8955-ba915249af80",
     "showTitle": false,
     "tableResultSettingsMap": {},
     "title": ""
    }
   },
   "outputs": [],
   "source": [
    "df_geo"
   ]
  },
  {
   "cell_type": "code",
   "execution_count": 0,
   "metadata": {
    "application/vnd.databricks.v1+cell": {
     "cellMetadata": {
      "byteLimit": 2048000,
      "rowLimit": 10000
     },
     "inputWidgets": {},
     "nuid": "2f9579b2-ef82-4b82-948e-1137e2ae59cc",
     "showTitle": false,
     "tableResultSettingsMap": {},
     "title": ""
    }
   },
   "outputs": [],
   "source": [
    "df_pin"
   ]
  },
  {
   "cell_type": "code",
   "execution_count": 0,
   "metadata": {
    "application/vnd.databricks.v1+cell": {
     "cellMetadata": {
      "byteLimit": 2048000,
      "rowLimit": 10000
     },
     "inputWidgets": {},
     "nuid": "c76dd471-30cf-479d-849f-caaa13890297",
     "showTitle": false,
     "tableResultSettingsMap": {},
     "title": ""
    }
   },
   "outputs": [],
   "source": [
    "df_user"
   ]
  },
  {
   "cell_type": "code",
   "execution_count": 0,
   "metadata": {
    "application/vnd.databricks.v1+cell": {
     "cellMetadata": {
      "byteLimit": 2048000,
      "rowLimit": 10000
     },
     "inputWidgets": {},
     "nuid": "fe33da37-0dcc-4c30-b717-80fb2d5fc910",
     "showTitle": false,
     "tableResultSettingsMap": {},
     "title": ""
    }
   },
   "outputs": [],
   "source": [
    "import pandas as pd\n",
    "\n",
    "# Create 'coordinates' column only if 'latitude' and 'longitude' exist\n",
    "if 'latitude' in df_geo.columns and 'longitude' in df_geo.columns:\n",
    "    df_geo['coordinates'] = df_geo[['latitude', 'longitude']].apply(lambda x: [x[0], x[1]], axis=1)\n",
    "    \n",
    "    # Drop 'latitude' and 'longitude' only if they exist\n",
    "    df_geo.drop(columns=['latitude', 'longitude'], inplace=True)\n",
    "\n",
    "# Convert 'timestamp' column to datetime format\n",
    "df_geo['timestamp'] = pd.to_datetime(df_geo['timestamp'])\n",
    "\n",
    "# Reorder the columns\n",
    "df_geo = df_geo[['ind', 'country', 'coordinates', 'timestamp']]\n",
    "\n",
    "df_geo"
   ]
  },
  {
   "cell_type": "code",
   "execution_count": 0,
   "metadata": {
    "application/vnd.databricks.v1+cell": {
     "cellMetadata": {
      "byteLimit": 2048000,
      "rowLimit": 10000
     },
     "inputWidgets": {},
     "nuid": "fbaba85f-4c70-4676-93a5-3e1d37fa15ac",
     "showTitle": false,
     "tableResultSettingsMap": {},
     "title": ""
    }
   },
   "outputs": [],
   "source": [
    "import pandas as pd\n",
    "\n",
    "# Print columns to debug issue\n",
    "print(\"Available columns:\", df_user.columns)\n",
    "\n",
    "# Create 'user_name' column only if 'first_name' and 'last_name' exist\n",
    "if 'first_name' in df_user.columns and 'last_name' in df_user.columns:\n",
    "    df_user['user_name'] = df_user['first_name'] + \" \" + df_user['last_name']\n",
    "    \n",
    "    # Drop 'first_name' and 'last_name' only if they exist\n",
    "    df_user.drop(columns=['first_name', 'last_name'], inplace=True)\n",
    "\n",
    "# Convert 'date_joined' column to datetime format\n",
    "df_user['date_joined'] = pd.to_datetime(df_user['date_joined'])\n",
    "\n",
    "# Reorder the columns\n",
    "df_user = df_user[['ind', 'user_name', 'age', 'date_joined']]\n",
    "\n",
    "\n",
    "df_user\n"
   ]
  },
  {
   "cell_type": "code",
   "execution_count": 0,
   "metadata": {
    "application/vnd.databricks.v1+cell": {
     "cellMetadata": {
      "byteLimit": 2048000,
      "rowLimit": 10000
     },
     "inputWidgets": {},
     "nuid": "d3dbffd0-0e93-4b0b-bb93-42c335228687",
     "showTitle": false,
     "tableResultSettingsMap": {},
     "title": ""
    }
   },
   "outputs": [],
   "source": [
    "# Concatenate the DataFrames column-wise\n",
    "df_combined = pd.concat([df_pin.reset_index(drop=True), df_user.reset_index(drop=True), df_geo.reset_index(drop=True)], axis=1)\n",
    "\n",
    "df_combined"
   ]
  },
  {
   "cell_type": "code",
   "execution_count": 0,
   "metadata": {
    "application/vnd.databricks.v1+cell": {
     "cellMetadata": {
      "byteLimit": 2048000,
      "rowLimit": 10000
     },
     "inputWidgets": {},
     "nuid": "a9ece8e7-ba4a-477a-a763-0948f933d87f",
     "showTitle": false,
     "tableResultSettingsMap": {},
     "title": ""
    }
   },
   "outputs": [],
   "source": [
    "#Task 4\n",
    "# Group by country and category, then count occurrences\n",
    "df_category_count = df_combined.groupby(['country', 'category']).size().reset_index(name='category_count')\n",
    "\n",
    "# Find the most popular category in each country\n",
    "df_most_popular_category_by_country = df_category_count.loc[df_category_count.groupby('country')['category_count'].idxmax()]\n",
    "\n",
    "# Display the resulting DataFrame\n",
    "df_most_popular_category_by_country"
   ]
  },
  {
   "cell_type": "code",
   "execution_count": 0,
   "metadata": {
    "application/vnd.databricks.v1+cell": {
     "cellMetadata": {
      "byteLimit": 2048000,
      "rowLimit": 10000
     },
     "inputWidgets": {},
     "nuid": "39f8b228-d47d-4b0d-a778-79897c90a042",
     "showTitle": false,
     "tableResultSettingsMap": {},
     "title": ""
    }
   },
   "outputs": [],
   "source": [
    "#Task 5\n",
    "# Convert timestamp column to datetime format\n",
    "df_combined['post_year'] = pd.to_datetime(df_combined['timestamp']).dt.year\n",
    "\n",
    "# Group by year and category, then count occurrences\n",
    "df_category_count = df_combined.groupby(['post_year', 'category']).size().reset_index(name='category_count')\n",
    "\n",
    "# Find the most popular category each year\n",
    "df_most_popular_category_by_year = df_category_count.loc[df_category_count.groupby('post_year')['category_count'].idxmax()]\n",
    "\n",
    "# Display the resulting DataFrame\n",
    "df_most_popular_category_by_year"
   ]
  },
  {
   "cell_type": "code",
   "execution_count": 0,
   "metadata": {
    "application/vnd.databricks.v1+cell": {
     "cellMetadata": {
      "byteLimit": 2048000,
      "rowLimit": 10000
     },
     "inputWidgets": {},
     "nuid": "05f59427-6868-48a7-a5f8-304abe809ec2",
     "showTitle": false,
     "tableResultSettingsMap": {},
     "title": ""
    }
   },
   "outputs": [],
   "source": [
    "#Task 6\n",
    "#Step 1\n",
    "#find the user with most followers in each country\n",
    "\n",
    "# Group by country and poster_name, then sum up follower counts\n",
    "df_followers = df_combined.groupby(['country', 'poster_name'])['follower_count'].sum().reset_index()\n",
    "\n",
    "# Find the user with the most followers in each country\n",
    "df_top_users_per_country = df_followers.loc[df_followers.groupby('country')['follower_count'].idxmax()]\n",
    "\n",
    "# Display the resulting DataFrame\n",
    "df_top_users_per_country"
   ]
  },
  {
   "cell_type": "code",
   "execution_count": 0,
   "metadata": {
    "application/vnd.databricks.v1+cell": {
     "cellMetadata": {
      "byteLimit": 2048000,
      "rowLimit": 10000
     },
     "inputWidgets": {},
     "nuid": "f501f8ac-3834-49d3-b8a0-9f24019e2b13",
     "showTitle": false,
     "tableResultSettingsMap": {},
     "title": ""
    }
   },
   "outputs": [],
   "source": [
    "#Task 6\n",
    "#Step 2\n",
    "# Find the country where the user has the highest follower count\n",
    "df_top_country = df_top_users_per_country.loc[df_top_users_per_country['follower_count'].idxmax(), ['country', 'follower_count']].to_frame().T\n",
    "\n",
    "# Display the final DataFrame (single row)\n",
    "df_top_country\n"
   ]
  },
  {
   "cell_type": "code",
   "execution_count": 0,
   "metadata": {
    "application/vnd.databricks.v1+cell": {
     "cellMetadata": {
      "byteLimit": 2048000,
      "rowLimit": 10000
     },
     "inputWidgets": {},
     "nuid": "49cd58fe-b09d-4146-9332-2ac52d96481b",
     "showTitle": false,
     "tableResultSettingsMap": {},
     "title": ""
    }
   },
   "outputs": [],
   "source": [
    "#Task 7\n",
    "# Define age group bins and labels\n",
    "bins = [0, 24, 35, 50, float('inf')]\n",
    "labels = ['18-24', '25-35', '36-50', '50+']\n",
    "\n",
    "# Create age_group column based on age\n",
    "df_combined['age_group'] = pd.cut(df_combined['age'], bins=bins, labels=labels, right=True)\n",
    "\n",
    "# Group by age_group and category, then count occurrences\n",
    "df_category_count = df_combined.groupby(['age_group', 'category']).size().reset_index(name='category_count')\n",
    "\n",
    "# Find the most popular category in each age group\n",
    "df_most_popular_category_by_age_group = df_category_count.loc[df_category_count.groupby('age_group')['category_count'].idxmax()]\n",
    "\n",
    "# Display the resulting DataFrame\n",
    "df_most_popular_category_by_age_group"
   ]
  },
  {
   "cell_type": "code",
   "execution_count": 0,
   "metadata": {
    "application/vnd.databricks.v1+cell": {
     "cellMetadata": {
      "byteLimit": 2048000,
      "rowLimit": 10000
     },
     "inputWidgets": {},
     "nuid": "554f4ff3-3f93-4f12-8556-cd011c28e980",
     "showTitle": false,
     "tableResultSettingsMap": {},
     "title": ""
    }
   },
   "outputs": [],
   "source": [
    "#Task 8\n",
    "# Group by age_group and calculate median follower count\n",
    "df_median_followers = df_combined.groupby('age_group')['follower_count'].median().reset_index(name='median_follower_count')\n",
    "\n",
    "# Display the resulting DataFrame\n",
    "df_median_followers"
   ]
  },
  {
   "cell_type": "code",
   "execution_count": 0,
   "metadata": {
    "application/vnd.databricks.v1+cell": {
     "cellMetadata": {
      "byteLimit": 2048000,
      "rowLimit": 10000
     },
     "inputWidgets": {},
     "nuid": "979fa879-23d3-4f40-8aa8-22b5976a3fbe",
     "showTitle": false,
     "tableResultSettingsMap": {},
     "title": ""
    }
   },
   "outputs": [],
   "source": [
    "#Task 9\n",
    "# Convert date_joined column to datetime format and extract the year\n",
    "df_combined['post_year'] = pd.to_datetime(df_combined['date_joined']).dt.year\n",
    "\n",
    "# Filter data for years between 2015 and 2020\n",
    "df_filtered = df_combined[(df_combined['post_year'] >= 2015) & (df_combined['post_year'] <= 2020)]\n",
    "\n",
    "# Count number of users joined per year\n",
    "df_users_per_year = df_filtered.groupby('post_year').size().reset_index(name='number_users_joined')\n",
    "\n",
    "# Display the resulting DataFrame\n",
    "df_users_per_year\n"
   ]
  },
  {
   "cell_type": "code",
   "execution_count": 0,
   "metadata": {
    "application/vnd.databricks.v1+cell": {
     "cellMetadata": {
      "byteLimit": 2048000,
      "rowLimit": 10000
     },
     "inputWidgets": {},
     "nuid": "5ecd5bf0-174d-4761-9718-78e399158d41",
     "showTitle": false,
     "tableResultSettingsMap": {},
     "title": ""
    }
   },
   "outputs": [],
   "source": [
    "#Task 10\n",
    "# Convert date_joined column to datetime format and extract the year\n",
    "df_combined['post_year'] = pd.to_datetime(df_combined['date_joined']).dt.year\n",
    "\n",
    "# Filter data for users who joined between 2015 and 2020\n",
    "df_filtered = df_combined[(df_combined['post_year'] >= 2015) & (df_combined['post_year'] <= 2020)]\n",
    "\n",
    "# Calculate median follower count per year\n",
    "df_median_followers = df_filtered.groupby('post_year')['follower_count'].median().reset_index(name='median_follower_count')\n",
    "\n",
    "# Display the resulting DataFrame\n",
    "df_median_followers"
   ]
  },
  {
   "cell_type": "code",
   "execution_count": 0,
   "metadata": {
    "application/vnd.databricks.v1+cell": {
     "cellMetadata": {
      "byteLimit": 2048000,
      "rowLimit": 10000
     },
     "inputWidgets": {},
     "nuid": "ec2d2e9f-8cc2-4dbc-b22d-0ac06b32f2a0",
     "showTitle": false,
     "tableResultSettingsMap": {},
     "title": ""
    }
   },
   "outputs": [],
   "source": [
    "#Task 11\n",
    "# Convert date_joined column to datetime format and extract the year\n",
    "df_combined['post_year'] = pd.to_datetime(df_combined['date_joined']).dt.year\n",
    "\n",
    "# Filter data for users who joined between 2015 and 2020\n",
    "df_filtered = df_combined[(df_combined['post_year'] >= 2015) & (df_combined['post_year'] <= 2020)]\n",
    "\n",
    "# Group by post_year and age_group, then calculate the median follower count\n",
    "df_median_followers_by_age_group = df_filtered.groupby(['post_year', 'age_group'])['follower_count'].median().reset_index(name='median_follower_count')\n",
    "\n",
    "# Display the resulting DataFrame\n",
    "df_median_followers_by_age_group"
   ]
  }
 ],
 "metadata": {
  "application/vnd.databricks.v1+notebook": {
   "computePreferences": null,
   "dashboards": [],
   "environmentMetadata": {
    "base_environment": "",
    "environment_version": "2"
   },
   "language": "python",
   "notebookMetadata": {
    "pythonIndentUnit": 4
   },
   "notebookName": "Pinterest_Data_Job",
   "widgets": {}
  },
  "language_info": {
   "name": "python"
  }
 },
 "nbformat": 4,
 "nbformat_minor": 0
}
