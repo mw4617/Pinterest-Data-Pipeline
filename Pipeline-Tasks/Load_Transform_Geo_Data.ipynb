{
 "cells": [
  {
   "cell_type": "code",
   "execution_count": 0,
   "metadata": {
    "application/vnd.databricks.v1+cell": {
     "cellMetadata": {
      "byteLimit": 2048000,
      "rowLimit": 10000
     },
     "inputWidgets": {},
     "nuid": "7fd7c08d-64fd-4b8e-be8c-51fbf1fefa4e",
     "showTitle": false,
     "tableResultSettingsMap": {},
     "title": ""
    }
   },
   "outputs": [],
   "source": [
    "from pyspark.sql import SparkSession\n",
    "import pandas as pd\n",
    "import random\n",
    "\n",
    "# Initialize Spark Session\n",
    "spark = SparkSession.builder.appName(\"Databricks_Catalog_Read\").getOrCreate()\n",
    "\n",
    "# Define the catalog and schema\n",
    "catalog_name = \"workspace\"\n",
    "schema_name = \"default\"\n",
    "\n",
    "# Read data from Databricks tables and convert them to Pandas DataFrames\n",
    "\n",
    "table_full_path = f\"{catalog_name}.{schema_name}.{'geo'}\"\n",
    "    \n",
    "# Read the table using Spark\n",
    "df_spark = spark.read.table(table_full_path)\n",
    "    \n",
    "# Convert to Pandas DataFrame\n",
    "globals()['df_geo'] = df_spark.toPandas()"
   ]
  },
  {
   "cell_type": "code",
   "execution_count": 0,
   "metadata": {
    "application/vnd.databricks.v1+cell": {
     "cellMetadata": {
      "byteLimit": 2048000,
      "rowLimit": 10000
     },
     "inputWidgets": {},
     "nuid": "51fd343f-381f-4cac-8067-ba01a6c7c79b",
     "showTitle": false,
     "tableResultSettingsMap": {},
     "title": ""
    }
   },
   "outputs": [],
   "source": [
    "# Show all rows\n",
    "pd.set_option('display.max_rows', None)"
   ]
  },
  {
   "cell_type": "code",
   "execution_count": 0,
   "metadata": {
    "application/vnd.databricks.v1+cell": {
     "cellMetadata": {
      "byteLimit": 2048000,
      "rowLimit": 10000
     },
     "inputWidgets": {},
     "nuid": "c49568f3-57df-4a33-8b27-5ae55fc760c1",
     "showTitle": false,
     "tableResultSettingsMap": {},
     "title": ""
    }
   },
   "outputs": [],
   "source": [
    "df_geo"
   ]
  },
  {
   "cell_type": "code",
   "execution_count": 0,
   "metadata": {
    "application/vnd.databricks.v1+cell": {
     "cellMetadata": {
      "byteLimit": 2048000,
      "rowLimit": 10000
     },
     "inputWidgets": {},
     "nuid": "5ddc2331-a0ed-4ca6-96a5-ddd06fd73bed",
     "showTitle": false,
     "tableResultSettingsMap": {},
     "title": ""
    }
   },
   "outputs": [],
   "source": [
    "import pandas as pd\n",
    "\n",
    "# Create 'coordinates' column only if 'latitude' and 'longitude' exist\n",
    "if 'latitude' in df_geo.columns and 'longitude' in df_geo.columns:\n",
    "    df_geo['coordinates'] = df_geo[['latitude', 'longitude']].apply(lambda x: [x[0], x[1]], axis=1)\n",
    "    \n",
    "    # Drop 'latitude' and 'longitude' only if they exist\n",
    "    df_geo.drop(columns=['latitude', 'longitude'], inplace=True)\n",
    "\n",
    "# Convert 'timestamp' column to datetime format\n",
    "df_geo['timestamp'] = pd.to_datetime(df_geo['timestamp'])\n",
    "\n",
    "# Reorder the columns\n",
    "df_geo = df_geo[['ind', 'country', 'coordinates', 'timestamp']]\n",
    "\n",
    "df_geo"
   ]
  },
  {
   "cell_type": "code",
   "execution_count": 0,
   "metadata": {
    "application/vnd.databricks.v1+cell": {
     "cellMetadata": {
      "byteLimit": 2048000,
      "rowLimit": 10000
     },
     "inputWidgets": {},
     "nuid": "cd5b0b44-018c-4d65-ba9f-8224f8b7cd38",
     "showTitle": false,
     "tableResultSettingsMap": {},
     "title": ""
    }
   },
   "outputs": [],
   "source": [
    "# Convert Pandas DataFrame to Spark DataFrame\n",
    "df_geo_spark = spark.createDataFrame(df_geo)\n",
    "\n",
    "#Save as managed delta table\n",
    "df_geo_spark.write.mode(\"overwrite\").saveAsTable(\"workspace.default.df_geo\")\n",
    "\n"
   ]
  }
 ],
 "metadata": {
  "application/vnd.databricks.v1+notebook": {
   "computePreferences": null,
   "dashboards": [],
   "environmentMetadata": {
    "base_environment": "",
    "environment_version": "2"
   },
   "language": "python",
   "notebookMetadata": {
    "pythonIndentUnit": 4
   },
   "notebookName": "Load_Transform_Geo_Data",
   "widgets": {}
  },
  "language_info": {
   "name": "python"
  }
 },
 "nbformat": 4,
 "nbformat_minor": 0
}
