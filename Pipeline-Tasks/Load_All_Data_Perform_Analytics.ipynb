{
 "cells": [
  {
   "cell_type": "code",
   "execution_count": 0,
   "metadata": {
    "application/vnd.databricks.v1+cell": {
     "cellMetadata": {
      "byteLimit": 2048000,
      "rowLimit": 10000
     },
     "inputWidgets": {},
     "nuid": "5e791306-dff6-446f-a0d3-f4b37e1d1454",
     "showTitle": false,
     "tableResultSettingsMap": {},
     "title": ""
    }
   },
   "outputs": [],
   "source": [
    "from pyspark.sql import SparkSession\n",
    "import pandas as pd\n",
    "\n",
    "# Read the managed Delta tables into Spark DataFrames\n",
    "df_pin_spark = spark.read.table(\"workspace.default.df_pinterest\")\n",
    "df_user_spark = spark.read.table(\"workspace.default.df_user\")\n",
    "df_geo_spark = spark.read.table(\"workspace.default.df_geo\")\n",
    "\n",
    "# Convert Spark DataFrames to Pandas\n",
    "df_pin = df_pin_spark.toPandas()\n",
    "df_user = df_user_spark.toPandas()\n",
    "df_geo = df_geo_spark.toPandas()\n",
    "\n",
    "# Concatenate the DataFrames column-wise\n",
    "df_combined = pd.concat([\n",
    "    df_pin.reset_index(drop=True),\n",
    "    df_user.reset_index(drop=True),\n",
    "    df_geo.reset_index(drop=True)\n",
    "], axis=1)\n"
   ]
  },
  {
   "cell_type": "code",
   "execution_count": 0,
   "metadata": {
    "application/vnd.databricks.v1+cell": {
     "cellMetadata": {
      "byteLimit": 2048000,
      "rowLimit": 10000
     },
     "inputWidgets": {},
     "nuid": "fd0a7a6e-a61f-4e75-9f7c-59fef8f0fe17",
     "showTitle": false,
     "tableResultSettingsMap": {},
     "title": ""
    }
   },
   "outputs": [],
   "source": [
    "# Show all rows\n",
    "pd.set_option('display.max_rows', None)"
   ]
  },
  {
   "cell_type": "code",
   "execution_count": 0,
   "metadata": {
    "application/vnd.databricks.v1+cell": {
     "cellMetadata": {
      "byteLimit": 2048000,
      "rowLimit": 10000
     },
     "inputWidgets": {},
     "nuid": "5f9604c0-68c0-40f2-abcb-84f0322726f5",
     "showTitle": false,
     "tableResultSettingsMap": {},
     "title": ""
    }
   },
   "outputs": [],
   "source": [
    "df_combined"
   ]
  },
  {
   "cell_type": "code",
   "execution_count": 0,
   "metadata": {
    "application/vnd.databricks.v1+cell": {
     "cellMetadata": {
      "byteLimit": 2048000,
      "rowLimit": 10000
     },
     "inputWidgets": {},
     "nuid": "2907836f-c661-4beb-891c-84ed951de610",
     "showTitle": false,
     "tableResultSettingsMap": {},
     "title": ""
    }
   },
   "outputs": [],
   "source": [
    "#Task 4\n",
    "# Group by country and category, then count occurrences\n",
    "df_category_count = df_combined.groupby(['country', 'category']).size().reset_index(name='category_count')\n",
    "\n",
    "# Find the most popular category in each country\n",
    "df_most_popular_category_by_country = df_category_count.loc[df_category_count.groupby('country')['category_count'].idxmax()]\n",
    "\n",
    "# Display the resulting DataFrame\n",
    "df_most_popular_category_by_country"
   ]
  },
  {
   "cell_type": "code",
   "execution_count": 0,
   "metadata": {
    "application/vnd.databricks.v1+cell": {
     "cellMetadata": {
      "byteLimit": 2048000,
      "rowLimit": 10000
     },
     "inputWidgets": {},
     "nuid": "82e6a86b-c398-4f07-8318-5ac494cae91b",
     "showTitle": false,
     "tableResultSettingsMap": {},
     "title": ""
    }
   },
   "outputs": [],
   "source": [
    "#Task 5\n",
    "# Convert timestamp column to datetime format\n",
    "df_combined['post_year'] = pd.to_datetime(df_combined['timestamp']).dt.year\n",
    "\n",
    "# Group by year and category, then count occurrences\n",
    "df_category_count = df_combined.groupby(['post_year', 'category']).size().reset_index(name='category_count')\n",
    "\n",
    "# Find the most popular category each year\n",
    "df_most_popular_category_by_year = df_category_count.loc[df_category_count.groupby('post_year')['category_count'].idxmax()]\n",
    "\n",
    "# Display the resulting DataFrame\n",
    "df_most_popular_category_by_year"
   ]
  },
  {
   "cell_type": "code",
   "execution_count": 0,
   "metadata": {
    "application/vnd.databricks.v1+cell": {
     "cellMetadata": {
      "byteLimit": 2048000,
      "rowLimit": 10000
     },
     "inputWidgets": {},
     "nuid": "232575f2-fa5c-4ce3-a81d-d1d85a0e3f77",
     "showTitle": false,
     "tableResultSettingsMap": {},
     "title": ""
    }
   },
   "outputs": [],
   "source": [
    "#Task 6\n",
    "#Step 1\n",
    "#Find the user with most followers in each country\n",
    "\n",
    "# Group by country and poster_name, then sum up follower counts\n",
    "df_followers = df_combined.groupby(['country', 'poster_name'])['follower_count'].sum().reset_index()\n",
    "\n",
    "# Find the user with the most followers in each country\n",
    "df_top_users_per_country = df_followers.loc[df_followers.groupby('country')['follower_count'].idxmax()]\n",
    "\n",
    "# Display the resulting DataFrame\n",
    "df_top_users_per_country"
   ]
  },
  {
   "cell_type": "code",
   "execution_count": 0,
   "metadata": {
    "application/vnd.databricks.v1+cell": {
     "cellMetadata": {
      "byteLimit": 2048000,
      "rowLimit": 10000
     },
     "inputWidgets": {},
     "nuid": "e417340b-b86e-461f-b329-57c39b24b916",
     "showTitle": false,
     "tableResultSettingsMap": {},
     "title": ""
    }
   },
   "outputs": [],
   "source": [
    "#Task 6\n",
    "#Step 2\n",
    "# Find the country where the user has the highest follower count\n",
    "df_top_country = df_top_users_per_country.loc[df_top_users_per_country['follower_count'].idxmax(), ['country', 'follower_count']].to_frame().T\n",
    "\n",
    "# Display the final DataFrame (single row)\n",
    "df_top_country\n"
   ]
  },
  {
   "cell_type": "code",
   "execution_count": 0,
   "metadata": {
    "application/vnd.databricks.v1+cell": {
     "cellMetadata": {
      "byteLimit": 2048000,
      "rowLimit": 10000
     },
     "inputWidgets": {},
     "nuid": "b5e90fd4-b19e-4311-a426-b6f91bb6b8e0",
     "showTitle": false,
     "tableResultSettingsMap": {},
     "title": ""
    }
   },
   "outputs": [],
   "source": [
    "#Task 7\n",
    "# Define age group bins and labels\n",
    "bins = [0, 24, 35, 50, float('inf')]\n",
    "labels = ['18-24', '25-35', '36-50', '50+']\n",
    "\n",
    "# Create age_group column based on age\n",
    "df_combined['age_group'] = pd.cut(df_combined['age'], bins=bins, labels=labels, right=True)\n",
    "\n",
    "# Group by age_group and category, then count occurrences\n",
    "df_category_count = df_combined.groupby(['age_group', 'category']).size().reset_index(name='category_count')\n",
    "\n",
    "# Find the most popular category in each age group\n",
    "df_most_popular_category_by_age_group = df_category_count.loc[df_category_count.groupby('age_group')['category_count'].idxmax()]\n",
    "\n",
    "# Display the resulting DataFrame\n",
    "df_most_popular_category_by_age_group"
   ]
  },
  {
   "cell_type": "code",
   "execution_count": 0,
   "metadata": {
    "application/vnd.databricks.v1+cell": {
     "cellMetadata": {
      "byteLimit": 2048000,
      "rowLimit": 10000
     },
     "inputWidgets": {},
     "nuid": "543ed55e-5ed6-4c1b-bccc-559263e17dda",
     "showTitle": false,
     "tableResultSettingsMap": {},
     "title": ""
    }
   },
   "outputs": [],
   "source": [
    "#Task 8\n",
    "# Group by age_group and calculate median follower count\n",
    "df_median_followers = df_combined.groupby('age_group')['follower_count'].median().reset_index(name='median_follower_count')\n",
    "\n",
    "# Display the resulting DataFrame\n",
    "df_median_followers"
   ]
  },
  {
   "cell_type": "code",
   "execution_count": 0,
   "metadata": {
    "application/vnd.databricks.v1+cell": {
     "cellMetadata": {
      "byteLimit": 2048000,
      "rowLimit": 10000
     },
     "inputWidgets": {},
     "nuid": "dfbc2c5d-e358-42ca-b193-d2ca19a498f8",
     "showTitle": false,
     "tableResultSettingsMap": {},
     "title": ""
    }
   },
   "outputs": [],
   "source": [
    "#Task 9\n",
    "# Convert date_joined column to datetime format and extract the year\n",
    "df_combined['post_year'] = pd.to_datetime(df_combined['date_joined']).dt.year\n",
    "\n",
    "# Filter data for years between 2015 and 2020\n",
    "df_filtered = df_combined[(df_combined['post_year'] >= 2015) & (df_combined['post_year'] <= 2020)]\n",
    "\n",
    "# Count number of users joined per year\n",
    "df_users_per_year = df_filtered.groupby('post_year').size().reset_index(name='number_users_joined')\n",
    "\n",
    "# Display the resulting DataFrame\n",
    "df_users_per_year"
   ]
  },
  {
   "cell_type": "code",
   "execution_count": 0,
   "metadata": {
    "application/vnd.databricks.v1+cell": {
     "cellMetadata": {
      "byteLimit": 2048000,
      "rowLimit": 10000
     },
     "inputWidgets": {},
     "nuid": "ef39e948-46f9-4e87-95f0-9f1a8dbf1c1b",
     "showTitle": false,
     "tableResultSettingsMap": {},
     "title": ""
    }
   },
   "outputs": [],
   "source": [
    "#Task 10\n",
    "# Convert date_joined column to datetime format and extract the year\n",
    "df_combined['post_year'] = pd.to_datetime(df_combined['date_joined']).dt.year\n",
    "\n",
    "# Filter data for users who joined between 2015 and 2020\n",
    "df_filtered = df_combined[(df_combined['post_year'] >= 2015) & (df_combined['post_year'] <= 2020)]\n",
    "\n",
    "# Calculate median follower count per year\n",
    "df_median_followers = df_filtered.groupby('post_year')['follower_count'].median().reset_index(name='median_follower_count')\n",
    "\n",
    "# Display the resulting DataFrame\n",
    "df_median_followers"
   ]
  },
  {
   "cell_type": "code",
   "execution_count": 0,
   "metadata": {
    "application/vnd.databricks.v1+cell": {
     "cellMetadata": {
      "byteLimit": 2048000,
      "rowLimit": 10000
     },
     "inputWidgets": {},
     "nuid": "a1379d21-b1f9-4be4-a115-912873f7c52a",
     "showTitle": false,
     "tableResultSettingsMap": {},
     "title": ""
    }
   },
   "outputs": [],
   "source": [
    "#Task 11\n",
    "# Convert date_joined column to datetime format and extract the year\n",
    "df_combined['post_year'] = pd.to_datetime(df_combined['date_joined']).dt.year\n",
    "\n",
    "# Filter data for users who joined between 2015 and 2020\n",
    "df_filtered = df_combined[(df_combined['post_year'] >= 2015) & (df_combined['post_year'] <= 2020)]\n",
    "\n",
    "# Group by post_year and age_group, then calculate the median follower count\n",
    "df_median_followers_by_age_group = df_filtered.groupby(['post_year', 'age_group'])['follower_count'].median().reset_index(name='median_follower_count')\n",
    "\n",
    "# Display the resulting DataFrame\n",
    "df_median_followers_by_age_group"
   ]
  }
 ],
 "metadata": {
  "application/vnd.databricks.v1+notebook": {
   "computePreferences": null,
   "dashboards": [],
   "environmentMetadata": {
    "base_environment": "",
    "environment_version": "2"
   },
   "language": "python",
   "notebookMetadata": {
    "pythonIndentUnit": 4
   },
   "notebookName": "Load_All_Data_Perform_Analytics",
   "widgets": {}
  },
  "language_info": {
   "name": "python"
  }
 },
 "nbformat": 4,
 "nbformat_minor": 0
}
