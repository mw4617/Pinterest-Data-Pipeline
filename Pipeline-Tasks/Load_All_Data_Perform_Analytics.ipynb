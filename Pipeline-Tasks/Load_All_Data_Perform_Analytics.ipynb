{
 "cells": [
  {
   "cell_type": "code",
   "execution_count": 0,
   "metadata": {
    "application/vnd.databricks.v1+cell": {
     "cellMetadata": {
      "byteLimit": 2048000,
      "rowLimit": 10000
     },
     "inputWidgets": {},
     "nuid": "5e791306-dff6-446f-a0d3-f4b37e1d1454",
     "showTitle": false,
     "tableResultSettingsMap": {},
     "title": ""
    }
   },
   "outputs": [],
   "source": [
    "from pyspark.sql import SparkSession\n",
    "from pyspark.sql.functions import col, count, row_number, year, sum, max, when, expr\n",
    "from pyspark.sql.window import Window\n",
    "\n",
    "\n",
    "# Read the managed Delta tables into Spark DataFrames\n",
    "df_pin = spark.read.table(\"workspace.default.df_pin\")\n",
    "df_user = spark.read.table(\"workspace.default.df_user\")\n",
    "df_geo = spark.read.table(\"workspace.default.df_geo\")\n",
    "\n",
    "# Perform full outer joins on 'ind'\n",
    "df_combined = df_pin.join(\n",
    "    df_user, on=\"ind\", how=\"fullouter\"\n",
    ").join(\n",
    "    df_geo, on=\"ind\", how=\"fullouter\"\n",
    ")\n",
    "\n",
    "#dropping rows with any null values\n",
    "df_combined=df_combined.dropna(\"any\")\n",
    "\n",
    "#Ordering the rows\n",
    "df_combined=df_combined.orderBy(\"ind\")\n",
    "\n",
    "# Show the combined DataFrame\n",
    "display(df_combined)"
   ]
  },
  {
   "cell_type": "code",
   "execution_count": 0,
   "metadata": {
    "application/vnd.databricks.v1+cell": {
     "cellMetadata": {
      "byteLimit": 2048000,
      "rowLimit": 10000
     },
     "inputWidgets": {},
     "nuid": "2907836f-c661-4beb-891c-84ed951de610",
     "showTitle": false,
     "tableResultSettingsMap": {},
     "title": ""
    }
   },
   "outputs": [],
   "source": [
    "#Task 4\n",
    "\n",
    "# Initialize Spark session\n",
    "spark = SparkSession.builder.appName(\"PopularCategory\").getOrCreate()\n",
    "\n",
    "# Assuming df_combined is your existing PySpark DataFrame\n",
    "# Group by country and category, then count occurrences\n",
    "df_category_count = df_combined.groupBy(\"country\", \"category\").agg(count(\"*\").alias(\"category_count\"))\n",
    "\n",
    "# Define a window specification to get the most popular category in each country\n",
    "window_spec = Window.partitionBy(\"country\").orderBy(col(\"category_count\").desc())\n",
    "\n",
    "# Add row number based on category count within each country\n",
    "df_most_popular_category_by_country = df_category_count.withColumn(\"rank\", row_number().over(window_spec))\n",
    "\n",
    "# Filter the top-ranked category for each country\n",
    "df_most_popular_category_by_country = df_most_popular_category_by_country.filter(col(\"rank\") == 1).drop(\"rank\")\n",
    "\n",
    "# Show the result\n",
    "display(df_most_popular_category_by_country)"
   ]
  },
  {
   "cell_type": "code",
   "execution_count": 0,
   "metadata": {
    "application/vnd.databricks.v1+cell": {
     "cellMetadata": {
      "byteLimit": 2048000,
      "rowLimit": 10000
     },
     "inputWidgets": {},
     "nuid": "82e6a86b-c398-4f07-8318-5ac494cae91b",
     "showTitle": false,
     "tableResultSettingsMap": {},
     "title": ""
    }
   },
   "outputs": [],
   "source": [
    "#Task 5\n",
    "# Convert timestamp column to datetime format\n",
    "df_combined = df_combined.withColumn(\"post_year\", year(col(\"timestamp\")))\n",
    "\n",
    "# Group by year and category, then count occurrences\n",
    "df_category_count = df_combined.groupBy(\"post_year\", \"category\").agg(count(\"*\").alias(\"category_count\"))\n",
    "\n",
    "# Define a window specification to find the most popular category per year\n",
    "window_spec = Window.partitionBy(\"post_year\").orderBy(col(\"category_count\").desc())\n",
    "\n",
    "# Assign a ranking to each category within each year\n",
    "df_ranked = df_category_count.withColumn(\"rank\", row_number().over(window_spec))\n",
    "\n",
    "# Filter only the most popular category (rank = 1) per year\n",
    "df_most_popular_category_by_year = df_ranked.filter(col(\"rank\") == 1).drop(\"rank\")\n",
    "\n",
    "display(df_most_popular_category_by_year)"
   ]
  },
  {
   "cell_type": "code",
   "execution_count": 0,
   "metadata": {
    "application/vnd.databricks.v1+cell": {
     "cellMetadata": {
      "byteLimit": 2048000,
      "rowLimit": 10000
     },
     "inputWidgets": {},
     "nuid": "232575f2-fa5c-4ce3-a81d-d1d85a0e3f77",
     "showTitle": false,
     "tableResultSettingsMap": {},
     "title": ""
    }
   },
   "outputs": [],
   "source": [
    "#Task 6\n",
    "#Step 1\n",
    "#Find the user with most followers in each country\n",
    "\n",
    "# Group by country and poster_name, then sum up follower counts\n",
    "df_followers = df_combined.groupBy(\"country\", \"poster_name\").agg(sum(\"follower_count\").alias(\"total_followers\"))\n",
    "\n",
    "# Define a window specification to rank users by follower count within each country\n",
    "window_spec = Window.partitionBy(\"country\").orderBy(col(\"total_followers\").desc())\n",
    "\n",
    "# Assign ranking to users within each country\n",
    "df_ranked = df_followers.withColumn(\"rank\", row_number().over(window_spec))\n",
    "\n",
    "# Filter only the top-ranked user per country\n",
    "df_top_users_per_country = df_ranked.filter(col(\"rank\") == 1).drop(\"rank\")\n",
    "\n",
    "display(df_top_users_per_country)"
   ]
  },
  {
   "cell_type": "code",
   "execution_count": 0,
   "metadata": {
    "application/vnd.databricks.v1+cell": {
     "cellMetadata": {
      "byteLimit": 2048000,
      "rowLimit": 10000
     },
     "inputWidgets": {},
     "nuid": "e417340b-b86e-461f-b329-57c39b24b916",
     "showTitle": false,
     "tableResultSettingsMap": {},
     "title": ""
    }
   },
   "outputs": [],
   "source": [
    "#Task 6\n",
    "#Step 2\n",
    "# Define a window specification to find the country with the highest follower count\n",
    "window_spec = Window.orderBy(col(\"total_followers\").desc())\n",
    "\n",
    "# Assign a ranking based on the highest follower count across all countries\n",
    "df_ranked = df_top_users_per_country.withColumn(\"rank\", row_number().over(window_spec))\n",
    "\n",
    "# Filter only the country with the highest follower count\n",
    "df_top_country = df_ranked.filter(col(\"rank\") == 1).select(\"country\", \"total_followers\").drop(\"rank\")\n",
    "\n",
    "display(df_top_country)"
   ]
  },
  {
   "cell_type": "code",
   "execution_count": 0,
   "metadata": {
    "application/vnd.databricks.v1+cell": {
     "cellMetadata": {
      "byteLimit": 2048000,
      "rowLimit": 10000
     },
     "inputWidgets": {},
     "nuid": "b5e90fd4-b19e-4311-a426-b6f91bb6b8e0",
     "showTitle": false,
     "tableResultSettingsMap": {},
     "title": ""
    }
   },
   "outputs": [],
   "source": [
    "#Task 7\n",
    "\n",
    "# Define age bins using PySpark\n",
    "df_combined = df_combined.withColumn(\n",
    "    \"age_group\",\n",
    "    when(col(\"age\") <= 24, \"18-24\")\n",
    "    .when((col(\"age\") > 24) & (col(\"age\") <= 35), \"25-35\")\n",
    "    .when((col(\"age\") > 35) & (col(\"age\") <= 50), \"36-50\")\n",
    "    .otherwise(\"50+\")\n",
    ")\n",
    "\n",
    "# Group by age_group and category, then count occurrences\n",
    "df_category_count = df_combined.groupBy(\"age_group\", \"category\").agg(count(\"*\").alias(\"category_count\"))\n",
    "\n",
    "# Define a window specification to rank categories within each age group\n",
    "window_spec = Window.partitionBy(\"age_group\").orderBy(col(\"category_count\").desc())\n",
    "\n",
    "# Assign ranking to categories within each age group\n",
    "df_ranked = df_category_count.withColumn(\"rank\", row_number().over(window_spec))\n",
    "\n",
    "# Filter only the most popular category per age group\n",
    "df_most_popular_category_by_age_group = df_ranked.filter(col(\"rank\") == 1).drop(\"rank\")\n",
    "\n",
    "# Show the result\n",
    "df_most_popular_category_by_age_group.show()"
   ]
  },
  {
   "cell_type": "code",
   "execution_count": 0,
   "metadata": {
    "application/vnd.databricks.v1+cell": {
     "cellMetadata": {
      "byteLimit": 2048000,
      "rowLimit": 10000
     },
     "inputWidgets": {},
     "nuid": "543ed55e-5ed6-4c1b-bccc-559263e17dda",
     "showTitle": false,
     "tableResultSettingsMap": {},
     "title": ""
    }
   },
   "outputs": [],
   "source": [
    "#Task 8\n",
    "# Create a new DataFrame with age groups (without modifying df_combined)\n",
    "df_age_grouped = df_combined.withColumn(\n",
    "    \"age_group\",\n",
    "    when(col(\"age\") <= 24, \"18-24\")\n",
    "    .when((col(\"age\") > 24) & (col(\"age\") <= 35), \"25-35\")\n",
    "    .when((col(\"age\") > 35) & (col(\"age\") <= 50), \"36-50\")\n",
    "    .otherwise(\"50+\")\n",
    ")\n",
    "\n",
    "# Compute the median follower count for each age group using approxQuantile\n",
    "df_median_followers = df_age_grouped.groupBy(\"age_group\").agg(\n",
    "    expr(\"percentile_approx(follower_count, 0.5)\").alias(\"median_follower_count\")\n",
    ")\n",
    "\n",
    "# Define a custom sorting column based on the age_group order\n",
    "df_median_followers = df_median_followers.withColumn(\n",
    "    \"sort_order\",\n",
    "    when(col(\"age_group\") == \"18-24\", 1)\n",
    "    .when(col(\"age_group\") == \"25-35\", 2)\n",
    "    .when(col(\"age_group\") == \"36-50\", 3)\n",
    "    .when(col(\"age_group\") == \"50+\", 4)\n",
    ")\n",
    "\n",
    "# Sort by the custom order and drop the helper column\n",
    "df_median_followers = df_median_followers.orderBy(\"sort_order\").drop(\"sort_order\")\n",
    "\n",
    "# Show the sorted result\n",
    "df_median_followers.show()"
   ]
  },
  {
   "cell_type": "code",
   "execution_count": 0,
   "metadata": {
    "application/vnd.databricks.v1+cell": {
     "cellMetadata": {
      "byteLimit": 2048000,
      "rowLimit": 10000
     },
     "inputWidgets": {},
     "nuid": "dfbc2c5d-e358-42ca-b193-d2ca19a498f8",
     "showTitle": false,
     "tableResultSettingsMap": {},
     "title": ""
    }
   },
   "outputs": [],
   "source": [
    "#Task 9\n",
    "# Convert 'date_joined' column to year (extracting the year)\n",
    "df_with_year = df_combined.withColumn(\"post_year\", year(col(\"date_joined\")))\n",
    "\n",
    "# Filter data for years between 2015 and 2020\n",
    "df_filtered = df_with_year.filter((col(\"post_year\") >= 2015) & (col(\"post_year\") <= 2020))\n",
    "\n",
    "# Count number of users joined per year\n",
    "df_users_per_year = df_filtered.groupBy(\"post_year\").agg(count(\"*\").alias(\"number_users_joined\"))\n",
    "\n",
    "# Sort by year (optional, to ensure ascending order)\n",
    "df_users_per_year = df_users_per_year.orderBy(\"post_year\")\n",
    "\n",
    "# Show the result\n",
    "df_users_per_year.show()"
   ]
  },
  {
   "cell_type": "code",
   "execution_count": 0,
   "metadata": {
    "application/vnd.databricks.v1+cell": {
     "cellMetadata": {
      "byteLimit": 2048000,
      "rowLimit": 10000
     },
     "inputWidgets": {},
     "nuid": "ef39e948-46f9-4e87-95f0-9f1a8dbf1c1b",
     "showTitle": false,
     "tableResultSettingsMap": {},
     "title": ""
    }
   },
   "outputs": [],
   "source": [
    "#Task 10\n",
    "\n",
    "# Convert 'date_joined' column to extract year\n",
    "df_with_year = df_combined.withColumn(\"post_year\", year(col(\"date_joined\")))\n",
    "\n",
    "# Filter data for users who joined between 2015 and 2020\n",
    "df_filtered = df_with_year.filter((col(\"post_year\") >= 2015) & (col(\"post_year\") <= 2020))\n",
    "\n",
    "# Calculate median follower count per year using approxQuantile\n",
    "df_median_followers = df_filtered.groupBy(\"post_year\").agg(\n",
    "    expr(\"percentile_approx(follower_count, 0.5)\").alias(\"median_follower_count\")\n",
    ")\n",
    "\n",
    "# Sort by year (optional, to ensure ascending order)\n",
    "df_median_followers = df_median_followers.orderBy(\"post_year\")\n",
    "\n",
    "# Show the result\n",
    "df_median_followers.show()"
   ]
  },
  {
   "cell_type": "code",
   "execution_count": 0,
   "metadata": {
    "application/vnd.databricks.v1+cell": {
     "cellMetadata": {
      "byteLimit": 2048000,
      "rowLimit": 10000
     },
     "inputWidgets": {},
     "nuid": "a1379d21-b1f9-4be4-a115-912873f7c52a",
     "showTitle": false,
     "tableResultSettingsMap": {},
     "title": ""
    }
   },
   "outputs": [],
   "source": [
    "\n",
    "# Convert 'date_joined' column to extract year\n",
    "df_with_year = df_combined.withColumn(\"post_year\", year(col(\"date_joined\")))\n",
    "\n",
    "# Define age bins using PySpark's `when` function (if not already assigned)\n",
    "df_with_age_group = df_with_year.withColumn(\n",
    "    \"age_group\",\n",
    "    when(col(\"age\") <= 24, \"18-24\")\n",
    "    .when((col(\"age\") > 24) & (col(\"age\") <= 35), \"25-35\")\n",
    "    .when((col(\"age\") > 35) & (col(\"age\") <= 50), \"36-50\")\n",
    "    .otherwise(\"50+\")\n",
    ")\n",
    "\n",
    "# Filter data for users who joined between 2015 and 2020\n",
    "df_filtered = df_with_age_group.filter((col(\"post_year\") >= 2015) & (col(\"post_year\") <= 2020))\n",
    "\n",
    "# Group by post_year and age_group, then calculate the median follower count\n",
    "df_median_followers_by_age_group = df_filtered.groupBy(\"post_year\", \"age_group\").agg(\n",
    "    expr(\"percentile_approx(follower_count, 0.5)\").alias(\"median_follower_count\")\n",
    ")\n",
    "\n",
    "# Sort by post_year and age_group for better readability\n",
    "df_median_followers_by_age_group = df_median_followers_by_age_group.orderBy(\"post_year\", \"age_group\")\n",
    "\n",
    "# Show the result\n",
    "df_median_followers_by_age_group.show()"
   ]
  }
 ],
 "metadata": {
  "application/vnd.databricks.v1+notebook": {
   "computePreferences": null,
   "dashboards": [],
   "environmentMetadata": {
    "base_environment": "",
    "environment_version": "2"
   },
   "language": "python",
   "notebookMetadata": {
    "pythonIndentUnit": 4
   },
   "notebookName": "Load_All_Data_Perform_Analytics",
   "widgets": {}
  },
  "language_info": {
   "name": "python"
  }
 },
 "nbformat": 4,
 "nbformat_minor": 0
}
