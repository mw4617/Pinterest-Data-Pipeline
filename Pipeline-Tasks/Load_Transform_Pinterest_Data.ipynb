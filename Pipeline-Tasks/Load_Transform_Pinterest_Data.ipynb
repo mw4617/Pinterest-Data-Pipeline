{
 "cells": [
  {
   "cell_type": "code",
   "execution_count": 0,
   "metadata": {
    "application/vnd.databricks.v1+cell": {
     "cellMetadata": {
      "byteLimit": 2048000,
      "rowLimit": 10000
     },
     "inputWidgets": {},
     "nuid": "b821e9d7-7b2b-420e-b945-089fc6ee649e",
     "showTitle": false,
     "tableResultSettingsMap": {},
     "title": ""
    }
   },
   "outputs": [],
   "source": [
    "from pyspark.sql import SparkSession\n",
    "import pandas as pd\n",
    "import random\n",
    "\n",
    "# Initialize Spark Session\n",
    "spark = SparkSession.builder.appName(\"Databricks_Catalog_Read\").getOrCreate()\n",
    "\n",
    "# Define the catalog and schema\n",
    "catalog_name = \"workspace\"\n",
    "schema_name = \"default\"\n",
    "\n",
    "# Read data from Databricks tables and convert them to Pandas DataFrames\n",
    "\n",
    "table_full_path = f\"{catalog_name}.{schema_name}.{'pinterest_data'}\"\n",
    "    \n",
    "# Read the table using Spark\n",
    "df_spark = spark.read.table(table_full_path)\n",
    "    \n",
    "# Convert to Pandas DataFrame\n",
    "globals()['df_pin'] = df_spark.toPandas()"
   ]
  },
  {
   "cell_type": "code",
   "execution_count": 0,
   "metadata": {
    "application/vnd.databricks.v1+cell": {
     "cellMetadata": {
      "byteLimit": 2048000,
      "rowLimit": 10000
     },
     "inputWidgets": {},
     "nuid": "3d8c1846-f269-4f0a-8d8a-17c5b5cbd883",
     "showTitle": false,
     "tableResultSettingsMap": {},
     "title": ""
    }
   },
   "outputs": [],
   "source": [
    "# Show all rows\n",
    "pd.set_option('display.max_rows', None)"
   ]
  },
  {
   "cell_type": "code",
   "execution_count": 0,
   "metadata": {
    "application/vnd.databricks.v1+cell": {
     "cellMetadata": {
      "byteLimit": 2048000,
      "rowLimit": 10000
     },
     "inputWidgets": {},
     "nuid": "15263621-092d-46ec-9cba-84bae47ad04e",
     "showTitle": false,
     "tableResultSettingsMap": {},
     "title": ""
    }
   },
   "outputs": [],
   "source": [
    "df_pin"
   ]
  },
  {
   "cell_type": "code",
   "execution_count": 0,
   "metadata": {
    "application/vnd.databricks.v1+cell": {
     "cellMetadata": {
      "byteLimit": 2048000,
      "rowLimit": 10000
     },
     "inputWidgets": {},
     "nuid": "fc8acf36-7933-430f-9bf6-26970ea211b2",
     "showTitle": false,
     "tableResultSettingsMap": {},
     "title": ""
    }
   },
   "outputs": [],
   "source": [
    "df_pin.replace('',None)\n",
    "df_pin.replace(to_replace=r'.*User Info Error.*', value=None, regex=True, inplace=True)\n",
    "df_pin.replace(to_replace=r'.*N,o, ,T,a,g,s, ,A,v,a,i,l,a,b,l,e.*', value=None, regex=True, inplace=True)\n",
    "df_pin.replace(to_replace=r'.*No description available Story format.*', value=None, regex=True, inplace=True)\n",
    "df_pin.replace(to_replace=r'.*No Title Data Available.*', value=None, regex=True, inplace=True)\n",
    "df_pin.replace(to_replace=r'.*Image src error.*', value=None, regex=True, inplace=True)\n",
    "df_pin = df_pin.applymap(lambda x: None if pd.isna(x) else x)\n",
    "# Remove \"Local save in \" from the 'save_location' column\n",
    "df_pin['save_location'] = df_pin['save_location'].str.replace('Local save in ', '', regex=False)\n",
    "\n",
    "\n",
    "\n",
    "# Function to convert follower counts\n",
    "def convert_to_number(num):\n",
    "    if pd.isna(num):\n",
    "        return None\n",
    "    num = str(num).upper()  # Ensure it's uppercase\n",
    "    if 'M' in num:\n",
    "        return float(num.replace('M', ''))* 1000000\n",
    "    elif 'K' in num:\n",
    "        return float(num.replace('K', '')) * 1000\n",
    "    elif 'B' in num:\n",
    "        return float(num.replace('B', '')) * 1000000000\n",
    "    else:\n",
    "        return float(num) if num.isdigit() else None\n",
    "\n",
    "# Apply conversion\n",
    "#df_pin['index'] = df_pin['index'].apply(convert_to_number)\n",
    "df_pin['follower_count'] = df_pin['follower_count'].apply(convert_to_number)\n",
    "\n",
    "# Rename 'index' column to 'ind'\n",
    "df_pin.rename(columns={'index': 'ind'}, inplace=True)\n",
    "# Reorder columns in the specified order\n",
    "df_pin = df_pin[['ind', \n",
    "                 'unique_id', \n",
    "                 'title', \n",
    "                 'description', \n",
    "                 'follower_count', \n",
    "                 'poster_name', \n",
    "                 'tag_list', \n",
    "                 'is_image_or_video', \n",
    "                 'image_src', \n",
    "                 'save_location', \n",
    "                 'category']]"
   ]
  },
  {
   "cell_type": "code",
   "execution_count": 0,
   "metadata": {
    "application/vnd.databricks.v1+cell": {
     "cellMetadata": {
      "byteLimit": 2048000,
      "rowLimit": 10000
     },
     "inputWidgets": {},
     "nuid": "19309520-7bb9-42b0-9bc4-ae8663482af5",
     "showTitle": false,
     "tableResultSettingsMap": {},
     "title": ""
    }
   },
   "outputs": [],
   "source": [
    "df_pin"
   ]
  },
  {
   "cell_type": "code",
   "execution_count": 0,
   "metadata": {
    "application/vnd.databricks.v1+cell": {
     "cellMetadata": {
      "byteLimit": 2048000,
      "rowLimit": 10000
     },
     "inputWidgets": {},
     "nuid": "f174c510-5cfe-445c-8ef3-4156f1dbd437",
     "showTitle": false,
     "tableResultSettingsMap": {},
     "title": ""
    }
   },
   "outputs": [],
   "source": [
    "# Convert Pandas DataFrame to Spark DataFrame\n",
    "df_pin_spark = spark.createDataFrame(df_pin)\n",
    "\n",
    "#Save Spark DataFrame as managed delta table\n",
    "df_pin_spark.write.mode(\"overwrite\").saveAsTable(\"workspace.default.df_pinterest\")"
   ]
  }
 ],
 "metadata": {
  "application/vnd.databricks.v1+notebook": {
   "computePreferences": null,
   "dashboards": [],
   "environmentMetadata": {
    "base_environment": "",
    "environment_version": "2"
   },
   "language": "python",
   "notebookMetadata": {
    "pythonIndentUnit": 4
   },
   "notebookName": "Load_Transform_Pinterest_Data",
   "widgets": {}
  },
  "language_info": {
   "name": "python"
  }
 },
 "nbformat": 4,
 "nbformat_minor": 0
}
